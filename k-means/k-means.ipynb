{
 "cells": [
  {
   "cell_type": "code",
   "execution_count": 142,
   "id": "uniform-windows",
   "metadata": {
    "scrolled": true
   },
   "outputs": [
    {
     "name": "stdout",
     "output_type": "stream",
     "text": [
      "Requirement already satisfied: numpy in /usr/local/Cellar/jupyterlab/3.0.10/libexec/lib/python3.9/site-packages (1.20.2)\n",
      "Requirement already satisfied: matplotlib in /usr/local/Cellar/jupyterlab/3.0.10/libexec/lib/python3.9/site-packages (3.4.1)\n",
      "Requirement already satisfied: pyparsing>=2.2.1 in /usr/local/Cellar/jupyterlab/3.0.10/libexec/lib/python3.9/site-packages (from matplotlib) (2.4.7)\n",
      "Requirement already satisfied: pillow>=6.2.0 in /usr/local/Cellar/jupyterlab/3.0.10/libexec/lib/python3.9/site-packages (from matplotlib) (8.2.0)\n",
      "Requirement already satisfied: cycler>=0.10 in /usr/local/Cellar/jupyterlab/3.0.10/libexec/lib/python3.9/site-packages (from matplotlib) (0.10.0)\n",
      "Requirement already satisfied: numpy>=1.16 in /usr/local/Cellar/jupyterlab/3.0.10/libexec/lib/python3.9/site-packages (from matplotlib) (1.20.2)\n",
      "Requirement already satisfied: python-dateutil>=2.7 in /usr/local/Cellar/jupyterlab/3.0.10/libexec/lib/python3.9/site-packages (from matplotlib) (2.8.1)\n",
      "Requirement already satisfied: kiwisolver>=1.0.1 in /usr/local/Cellar/jupyterlab/3.0.10/libexec/lib/python3.9/site-packages (from matplotlib) (1.3.1)\n",
      "Requirement already satisfied: six in /usr/local/Cellar/jupyterlab/3.0.10/libexec/lib/python3.9/site-packages (from cycler>=0.10->matplotlib) (1.15.0)\n",
      "Collecting sklearn\n",
      "  Using cached sklearn-0.0.tar.gz (1.1 kB)\n",
      "Collecting scikit-learn\n",
      "  Using cached scikit_learn-0.24.1-cp39-cp39-macosx_10_13_x86_64.whl (7.3 MB)\n",
      "Collecting threadpoolctl>=2.0.0\n",
      "  Using cached threadpoolctl-2.1.0-py3-none-any.whl (12 kB)\n",
      "Collecting joblib>=0.11\n",
      "  Using cached joblib-1.0.1-py3-none-any.whl (303 kB)\n",
      "Requirement already satisfied: numpy>=1.13.3 in /usr/local/Cellar/jupyterlab/3.0.10/libexec/lib/python3.9/site-packages (from scikit-learn->sklearn) (1.20.2)\n",
      "Collecting scipy>=0.19.1\n",
      "  Downloading scipy-1.6.2-cp39-cp39-macosx_10_9_x86_64.whl (30.9 MB)\n",
      "\u001b[K     |████████████████████████████████| 30.9 MB 77.1 MB/s eta 0:00:01.2 MB/s eta 0:00:05\n",
      "\u001b[?25hUsing legacy 'setup.py install' for sklearn, since package 'wheel' is not installed.\n",
      "Installing collected packages: threadpoolctl, scipy, joblib, scikit-learn, sklearn\n",
      "    Running setup.py install for sklearn ... \u001b[?25ldone\n",
      "\u001b[?25hSuccessfully installed joblib-1.0.1 scikit-learn-0.24.1 scipy-1.6.2 sklearn-0.0 threadpoolctl-2.1.0\n"
     ]
    }
   ],
   "source": [
    "import sys\n",
    "!{sys.executable} -m pip install numpy\n",
    "!{sys.executable} -m pip install matplotlib\n",
    "!{sys.executable} -m pip install sklearn"
   ]
  },
  {
   "cell_type": "code",
   "execution_count": 138,
   "id": "active-messenger",
   "metadata": {},
   "outputs": [
    {
     "data": {
      "text/plain": [
       "<matplotlib.collections.PathCollection at 0x125d29940>"
      ]
     },
     "execution_count": 138,
     "metadata": {},
     "output_type": "execute_result"
    },
    {
     "data": {
      "image/png": "[encoded data removed]",
      "text/plain": [
       "<Figure size 432x288 with 1 Axes>"
      ]
     },
     "metadata": {
      "needs_background": "light"
     },
     "output_type": "display_data"
    }
   ],
   "source": [
    "#K-means\n",
    "import numpy as np\n",
    "import matplotlib.pyplot as plt\n",
    "from numpy import linalg as LA\n",
    "from sklearn.datasets import make_circles\n",
    "from sklearn.datasets import make_moons\n",
    "\n",
    "from sklearn.neighbors import kneighbors_graph\n",
    "def generateGraph(S,n):\n",
    "    s = S[0].shape[0]\n",
    "    L = np.zeros((s,s))\n",
    "    for i in range(s):\n",
    "        for j in range(s):\n",
    "            if(i == j):\n",
    "                L[i][j] = 0\n",
    "            else:\n",
    "                L[i][j] = int(distance([S[0][i],S[1][i]],[S[0][j],S[1][j]]) < n)        \n",
    "    return np.diag(L.sum(axis=1)) - L\n",
    "\n",
    "def getCenter(S):\n",
    "    return [np.mean(S[0]),np.mean(S[1])]\n",
    "\n",
    "def distance(a,b):\n",
    "    return np.sqrt((a[0] - b[0])**2 + (a[1] - b[1])**2)\n",
    "\n",
    "def split(S,c1,c2):\n",
    "    g1x = []\n",
    "    g1y = []\n",
    "    g2x = []\n",
    "    g2y = []\n",
    "\n",
    "    for i,j in zip(S[0],S[1]):\n",
    "        e = [i,j]\n",
    "        if(distance(e,c1) >= distance(e,c2)):\n",
    "            g1x.append(e[0])\n",
    "            g1y.append(e[1])\n",
    "\n",
    "        else:\n",
    "            g2x.append(e[0])\n",
    "            g2y.append(e[1])\n",
    "\n",
    "    return [g1x,g1y],[g2x,g2y]\n",
    "\n",
    "# lines\n",
    "x = np.concatenate([np.random.uniform(-5, 5, size=30),np.random.uniform(-5, 5, size=30)])\n",
    "y = np.concatenate([np.random.uniform(1, 1, size=30),np.random.uniform(4, 4, size=30)])\n",
    "S = [x,y]\n",
    "\n",
    "#circles\n",
    "#S, labels = make_circles(n_samples=500, noise=0.1, factor=.2)\n",
    "\n",
    "#moons\n",
    "#S, labels = make_moons(n_samples=500, noise=0.1)\n",
    "\n",
    "S = S\n",
    "c1 = np.random.uniform(-1,7,size=2)\n",
    "c2 = np.random.uniform(-1,7,size=2)\n",
    "\n",
    "\n",
    "#lloyds allgorithm\n",
    "\n",
    "for i in range(10):\n",
    "    g1, g2 = split(S,c1,c2)\n",
    "    c1 = getCenter(g1)\n",
    "    c2 = getCenter(g2)\n",
    "\n",
    "\n",
    "#p = getCenter(S)\n",
    "#split into groups\n",
    "\n",
    "\n",
    "M = generateGraph(S,2)\n",
    "\n",
    "\n",
    "eigenValues, eigenVectors = LA.eig(M)\n",
    "\n",
    "idx = eigenValues.argsort()[::-1]   \n",
    "eigenValues = np.rint(eigenValues[idx])\n",
    "eigenVectors = np.real(np.rint(eigenVectors[:,idx]))\n",
    "\n",
    "#draw graphs\n",
    "plt.scatter(g1[0],g1[1],color='g')\n",
    "plt.scatter(g2[0],g2[1],color='r')\n",
    "\n",
    "plt.scatter(c1[0],c1[1], color = 'g', marker = '3')\n",
    "plt.scatter(c2[0],c2[1], color = 'r', marker = '3')\n",
    "\n",
    "\n"
   ]
  },
  {
   "cell_type": "code",
   "execution_count": 139,
   "id": "vertical-genetics",
   "metadata": {},
   "outputs": [
    {
     "data": {
      "image/png": "[encoded data removed]",
      "text/plain": [
       "<Figure size 432x288 with 2 Axes>"
      ]
     },
     "metadata": {
      "needs_background": "light"
     },
     "output_type": "display_data"
    }
   ],
   "source": [
    "plt.imshow(eigenVectors)\n",
    "plt.colorbar()\n",
    "plt.show()\n"
   ]
  },
  {
   "cell_type": "code",
   "execution_count": 140,
   "id": "continued-bulgaria",
   "metadata": {},
   "outputs": [
    {
     "name": "stdout",
     "output_type": "stream",
     "text": [
      "[False False False False False False False False False False False False\n",
      " False False False False False False False False False False False False\n",
      " False False False False False False False False False False False False\n",
      " False False False False False False False False False False False False\n",
      " False False False False False False False False False False False False]\n"
     ]
    }
   ],
   "source": [
    "vals, vecs = np.linalg.eig(M)\n",
    "\n",
    "# sort\n",
    "vecs = vecs[:,np.argsort(vals)]\n",
    "vals = vals[np.argsort(vals)]\n",
    "\n",
    "# use Fiedler value to find best cut to separate data\n",
    "clusters = vecs[:,1] > 0\n",
    "print(clusters)"
   ]
  },
  {
   "cell_type": "code",
   "execution_count": 141,
   "id": "spare-kruger",
   "metadata": {},
   "outputs": [
    {
     "data": {
      "image/png": "[encoded data removed]",
      "text/plain": [
       "<Figure size 432x288 with 2 Axes>"
      ]
     },
     "metadata": {
      "needs_background": "light"
     },
     "output_type": "display_data"
    }
   ],
   "source": [
    "plt.imshow(M)\n",
    "plt.colorbar()\n",
    "plt.show()\n"
   ]
  },
  {
   "cell_type": "code",
   "execution_count": 142,
   "id": "sized-provider",
   "metadata": {},
   "outputs": [
    {
     "name": "stdout",
     "output_type": "stream",
     "text": [
      "[[0. 1. 0. ... 0. 0. 0.]\n",
      " [1. 0. 0. ... 0. 0. 0.]\n",
      " [0. 0. 0. ... 0. 0. 0.]\n",
      " ...\n",
      " [0. 0. 0. ... 0. 0. 0.]\n",
      " [0. 0. 0. ... 0. 0. 0.]\n",
      " [0. 0. 0. ... 0. 0. 0.]]\n"
     ]
    }
   ],
   "source": [
    "#Flexible k-means\n",
    "from sklearn.datasets import make_circles\n",
    "from sklearn.datasets import make_moons\n",
    "\n",
    "from sklearn.neighbors import kneighbors_graph\n",
    "import numpy as np\n",
    "\n",
    "# create the data\n",
    "#X, labels = make_circles(n_samples=500, noise=0.1, factor=.2)\n",
    "X = np.array(S).T\n",
    "\n",
    "#X, labels = make_moons(n_samples=500, noise=0.1)\n",
    "# use the nearest neighbor graph as our adjacency matrix\n",
    "A = kneighbors_graph(X, n_neighbors=7).toarray()\n",
    "print(A)\n",
    "\n",
    "# create the graph laplacian\n",
    "L = kneighbors_graph(X, n_neighbors=7).toarray() - np.diag(A.sum(axis=1))\n",
    "#L = generateGraph(S,3) <--- Less accurate than out of box solution\n",
    "\n",
    "# find the eigenvalues and eigenvectors\n",
    "vals, vecs = np.linalg.eig(L)\n",
    "\n",
    "# get bottom\n",
    "vecs = vecs[:,np.argsort(vals)]\n",
    "vals = vals[np.argsort(vals)]\n",
    "\n",
    "# find clusters\n",
    "clusters = vecs[:,1] > 0\n",
    "s = X[clusters]\n",
    "t = X[~clusters]"
   ]
  },
  {
   "cell_type": "code",
   "execution_count": 143,
   "id": "incoming-tennessee",
   "metadata": {},
   "outputs": [
    {
     "data": {
      "image/png": "[encoded data removed]",
      "text/plain": [
       "<Figure size 432x288 with 1 Axes>"
      ]
     },
     "metadata": {
      "needs_background": "light"
     },
     "output_type": "display_data"
    }
   ],
   "source": [
    "plt.scatter(s[:,0],s[:,1],color='g')\n",
    "plt.scatter(t[:,0],t[:,1],color='r')\n",
    "\n",
    "plt.show()\n"
   ]
  },
  {
   "cell_type": "code",
   "execution_count": null,
   "id": "ethical-grammar",
   "metadata": {},
   "outputs": [],
   "source": []
  },
  {
   "cell_type": "code",
   "execution_count": null,
   "id": "facial-detective",
   "metadata": {},
   "outputs": [],
   "source": []
  },
  {
   "cell_type": "code",
   "execution_count": null,
   "id": "communist-development",
   "metadata": {},
   "outputs": [],
   "source": []
  }
 ],
 "metadata": {
  "kernelspec": {
   "display_name": "Python 3",
   "language": "python",
   "name": "python3"
  },
  "language_info": {
   "codemirror_mode": {
    "name": "ipython",
    "version": 3
   },
   "file_extension": ".py",
   "mimetype": "text/x-python",
   "name": "python",
   "nbconvert_exporter": "python",
   "pygments_lexer": "ipython3",
   "version": "3.9.2"
  }
 },
 "nbformat": 4,
 "nbformat_minor": 5
}
